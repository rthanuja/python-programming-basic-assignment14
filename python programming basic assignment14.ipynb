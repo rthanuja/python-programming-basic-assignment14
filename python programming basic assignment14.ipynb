{
 "cells": [
  {
   "cell_type": "code",
   "execution_count": 1,
   "id": "b65fee77",
   "metadata": {},
   "outputs": [],
   "source": [
    "'''1.Define a class with a generator which can iterate the numbers, which are divisible by 7, between a given range 0 and n.'''\n",
    "class Iterate:\n",
    "    def divisibility(n):\n",
    "        for i in range(n):\n",
    "            if i%7==0:\n",
    "                yield i            "
   ]
  },
  {
   "cell_type": "code",
   "execution_count": 2,
   "id": "f041a04d",
   "metadata": {},
   "outputs": [],
   "source": [
    "s=Iterate.divisibility(20)"
   ]
  },
  {
   "cell_type": "code",
   "execution_count": 3,
   "id": "d851f69b",
   "metadata": {},
   "outputs": [
    {
     "data": {
      "text/plain": [
       "0"
      ]
     },
     "execution_count": 3,
     "metadata": {},
     "output_type": "execute_result"
    }
   ],
   "source": [
    "next(s)"
   ]
  },
  {
   "cell_type": "code",
   "execution_count": 4,
   "id": "8f535c87",
   "metadata": {},
   "outputs": [
    {
     "data": {
      "text/plain": [
       "7"
      ]
     },
     "execution_count": 4,
     "metadata": {},
     "output_type": "execute_result"
    }
   ],
   "source": [
    "next(s)"
   ]
  },
  {
   "cell_type": "code",
   "execution_count": 5,
   "id": "f238f94d",
   "metadata": {},
   "outputs": [
    {
     "data": {
      "text/plain": [
       "14"
      ]
     },
     "execution_count": 5,
     "metadata": {},
     "output_type": "execute_result"
    }
   ],
   "source": [
    "next(s)"
   ]
  },
  {
   "cell_type": "code",
   "execution_count": 7,
   "id": "274b70f3",
   "metadata": {},
   "outputs": [
    {
     "name": "stdout",
     "output_type": "stream",
     "text": [
      "2:2\n",
      "3.:1\n",
      "3?:1\n",
      "New:1\n",
      "Python:5\n",
      "Read:1\n",
      "and:1\n",
      "between:1\n",
      "choosing:1\n",
      "or:2\n",
      "to:1\n"
     ]
    }
   ],
   "source": [
    "'''2.Write a program to compute the frequency of the words from the input. The output should output after sorting the key\n",
    "alphanumerically. '''\n",
    "s=\"New to Python or choosing between Python 2 and Python 3? Read Python 2 or Python 3.\"\n",
    "s=s.split()\n",
    "l=list(set(s))\n",
    "l.sort()\n",
    "for i in l:\n",
    "    print(\"{}:{}\".format(i,s.count(i)))\n",
    "    "
   ]
  },
  {
   "cell_type": "code",
   "execution_count": 8,
   "id": "3f92cf13",
   "metadata": {},
   "outputs": [],
   "source": [
    "'''Define a class Person and its two child classes: Male and Female. All classes have a method \"getGender\" which can print \n",
    "\"Male\" for Male class and \"Female\" for Female class.'''\n",
    "class Person:\n",
    "    def getGender(self):\n",
    "        return \"unknown\"\n",
    "class Male(Person):\n",
    "    def getGender(self):\n",
    "        print('Male')\n",
    "class Female(Person):\n",
    "    def getGender(self):\n",
    "        print(\"Female\")"
   ]
  },
  {
   "cell_type": "code",
   "execution_count": 9,
   "id": "fd699f1d",
   "metadata": {},
   "outputs": [
    {
     "name": "stdout",
     "output_type": "stream",
     "text": [
      "I Play Hockey\n",
      "I Play Football\n",
      "I Love Hockey\n",
      "I Love Football\n",
      "You Play Hockey\n",
      "You Play Football\n",
      "You Love Hockey\n",
      "You Love Football\n"
     ]
    }
   ],
   "source": [
    "'''4.Please write a program to generate all sentences where subject is in [\"I\", \"You\"] and verb is in \n",
    "[\"Play\", \"Love\"] and the object is in [\"Hockey\",\"Football\"].'''\n",
    "s=[\"I\", \"You\"]\n",
    "v=[\"Play\", \"Love\"] \n",
    "o=[\"Hockey\",\"Football\"]\n",
    "for i in s:\n",
    "    for j in v:\n",
    "        for k in o:\n",
    "            print(i+\" \"+j+\" \"+k)"
   ]
  },
  {
   "cell_type": "code",
   "execution_count": 10,
   "id": "1d531c44",
   "metadata": {},
   "outputs": [
    {
     "name": "stdout",
     "output_type": "stream",
     "text": [
      "b'hello world!hello world!hello world!hello world!'\n"
     ]
    }
   ],
   "source": [
    "'''5.Please write a program to compress and decompress the string \"hello world!hello world!hello world!hello world!\".'''\n",
    "import zlib\n",
    "s=b\"hello world!hello world!hello world!hello world!\"\n",
    "c=zlib.compress(s)\n",
    "t=zlib.decompress(c)\n",
    "print(t)\n"
   ]
  },
  {
   "cell_type": "code",
   "execution_count": 11,
   "id": "4a9ab4d5",
   "metadata": {},
   "outputs": [],
   "source": [
    "'''6.Please write a binary search function which searches an item in a sorted list. The function should return the index of\n",
    "element to be searched in the list.'''\n",
    "def binary_search(l,n):\n",
    "    s=0\n",
    "    e=len(l)-1\n",
    "    while s<=e:\n",
    "        m=s+e//2\n",
    "        if l[m]<n:\n",
    "            e=m-1\n",
    "        elif l[m]>n:\n",
    "            s=m+1\n",
    "        else:\n",
    "            return m\n",
    "    return \"None\""
   ]
  },
  {
   "cell_type": "code",
   "execution_count": 12,
   "id": "359b0eb2",
   "metadata": {},
   "outputs": [
    {
     "data": {
      "text/plain": [
       "7"
      ]
     },
     "execution_count": 12,
     "metadata": {},
     "output_type": "execute_result"
    }
   ],
   "source": [
    "l=[5,6,8,14,26,35,37,54,62,64,67,71,75,79,84,91]\n",
    "n=54\n",
    "binary_search(l,n)"
   ]
  },
  {
   "cell_type": "code",
   "execution_count": 13,
   "id": "d64756cc",
   "metadata": {},
   "outputs": [
    {
     "data": {
      "text/plain": [
       "'None'"
      ]
     },
     "execution_count": 13,
     "metadata": {},
     "output_type": "execute_result"
    }
   ],
   "source": [
    "n=60\n",
    "binary_search(l,n)"
   ]
  },
  {
   "cell_type": "code",
   "execution_count": null,
   "id": "74929ab1",
   "metadata": {},
   "outputs": [],
   "source": []
  }
 ],
 "metadata": {
  "kernelspec": {
   "display_name": "Python 3 (ipykernel)",
   "language": "python",
   "name": "python3"
  },
  "language_info": {
   "codemirror_mode": {
    "name": "ipython",
    "version": 3
   },
   "file_extension": ".py",
   "mimetype": "text/x-python",
   "name": "python",
   "nbconvert_exporter": "python",
   "pygments_lexer": "ipython3",
   "version": "3.10.9"
  }
 },
 "nbformat": 4,
 "nbformat_minor": 5
}
